{
  "nbformat": 4,
  "nbformat_minor": 0,
  "metadata": {
    "colab": {
      "provenance": [],
      "authorship_tag": "ABX9TyPQFJbKjRWBEqOTEqmwy9Yb",
      "include_colab_link": true
    },
    "kernelspec": {
      "name": "python3",
      "display_name": "Python 3"
    },
    "language_info": {
      "name": "python"
    }
  },
  "cells": [
    {
      "cell_type": "markdown",
      "metadata": {
        "id": "view-in-github",
        "colab_type": "text"
      },
      "source": [
        "<a href=\"https://colab.research.google.com/github/OluwatodimuAdegoke/MNIST/blob/main/ASL.ipynb\" target=\"_parent\"><img src=\"https://colab.research.google.com/assets/colab-badge.svg\" alt=\"Open In Colab\"/></a>"
      ]
    },
    {
      "cell_type": "markdown",
      "source": [
        "This model is designed to identify different American Sign Language alphabet using the ASL Dataset from Kaggle"
      ],
      "metadata": {
        "id": "20ri_Jesk0Jo"
      }
    },
    {
      "cell_type": "code",
      "execution_count": 26,
      "metadata": {
        "id": "Tne4k717kzRE"
      },
      "outputs": [],
      "source": [
        "#Using a ASL datasets from kaggle\n",
        "import pandas as pd\n",
        "import tensorflow.keras as keras\n",
        "from tensorflow.keras.models import Sequential\n",
        "from tensorflow.keras.layers import Dense\n",
        "\n",
        "from tensorflow.keras.models import Sequential\n",
        "from tensorflow.keras.layers import (\n",
        "    Dense,\n",
        "    Conv2D,\n",
        "    MaxPool2D,\n",
        "    Flatten,\n",
        "    Dropout,\n",
        "    BatchNormalization,\n",
        ")\n",
        "\n",
        "\n",
        "train_df = pd.read_csv(\"data/sign_mnist_train.csv\")\n",
        "valid_df = pd.read_csv(\"data/sign_mnist_valid.csv\")"
      ]
    },
    {
      "cell_type": "code",
      "source": [
        "#Preparing the model\n",
        "y_train = train_df['label']\n",
        "y_valid = valid_df['label']\n",
        "del train_df['label']\n",
        "del valid_df['label']\n",
        "\n",
        "x_train = train_df.values\n",
        "x_valid = valid_df.values\n"
      ],
      "metadata": {
        "id": "0JZjtI2SlFQc"
      },
      "execution_count": 27,
      "outputs": []
    },
    {
      "cell_type": "code",
      "source": [
        "#Normalize x_train and x_valid.\n",
        "x_train = x_train/255\n",
        "x_valid = x_valid/255"
      ],
      "metadata": {
        "id": "rt2SqGFPohle"
      },
      "execution_count": 8,
      "outputs": []
    },
    {
      "cell_type": "code",
      "source": [
        "num_classes = 24\n",
        "\n",
        "#Categorically encoding y_train and y_valid.\n",
        "\n",
        "y_train = keras.utils.to_categorical(y_train,num_classes)\n",
        "y_valid = keras.utils.to_categorical(y_valid,num_classes)\n",
        "\n",
        "\n",
        "x_train = x_train.reshape(-1,28,28,1)\n",
        "x_valid = x_valid.reshape(-1,28,28,1)\n",
        "\n",
        "x_train.shape, x_valid.shape"
      ],
      "metadata": {
        "colab": {
          "base_uri": "https://localhost:8080/"
        },
        "id": "1TojoGWNo0Nu",
        "outputId": "4b91bc3d-b36e-4617-8f25-ff436059e743"
      },
      "execution_count": 28,
      "outputs": [
        {
          "output_type": "execute_result",
          "data": {
            "text/plain": [
              "((27455, 28, 28, 1), (7172, 28, 28, 1))"
            ]
          },
          "metadata": {},
          "execution_count": 28
        }
      ]
    },
    {
      "cell_type": "code",
      "source": [
        "#Building the model\n",
        "model = Sequential()\n",
        "model.add(Conv2D(75, (3, 3), strides=1, padding=\"same\", activation=\"relu\",\n",
        "                 input_shape=(28, 28, 1)))\n",
        "model.add(BatchNormalization())\n",
        "model.add(MaxPool2D((2, 2), strides=2, padding=\"same\"))\n",
        "model.add(Conv2D(50, (3, 3), strides=1, padding=\"same\", activation=\"relu\"))\n",
        "model.add(Dropout(0.2))\n",
        "model.add(BatchNormalization())\n",
        "model.add(MaxPool2D((2, 2), strides=2, padding=\"same\"))\n",
        "model.add(Conv2D(25, (3, 3), strides=1, padding=\"same\", activation=\"relu\"))\n",
        "model.add(BatchNormalization())\n",
        "model.add(MaxPool2D((2, 2), strides=2, padding=\"same\"))\n",
        "model.add(Flatten())\n",
        "model.add(Dense(units=512, activation=\"relu\"))\n",
        "model.add(Dropout(0.3))\n",
        "model.add(Dense(units=num_classes, activation=\"softmax\"))\n"
      ],
      "metadata": {
        "id": "zdLVA8xOo4Do"
      },
      "execution_count": 29,
      "outputs": []
    },
    {
      "cell_type": "code",
      "source": [
        "#Adding Data Augumentation to increase the accuracy.\n",
        "from tensorflow.keras.preprocessing.image import ImageDataGenerator\n",
        "\n",
        "datagen = ImageDataGenerator(\n",
        "    rotation_range=10,  # randomly rotate images in the range (degrees, 0 to 180)\n",
        "    zoom_range=0.1,  # Randomly zoom image\n",
        "    width_shift_range=0.1,  # randomly shift images horizontally (fraction of total width)\n",
        "    height_shift_range=0.1,  # randomly shift images vertically (fraction of total height)\n",
        "    horizontal_flip=True,  # randomly flip images horizontally\n",
        "    vertical_flip=False, # Don't randomly flip images vertically\n",
        ")\n",
        "\n",
        "batch_size = 32\n",
        "img_iter = datagen.flow(x_train, y_train, batch_size=batch_size)\n",
        "\n",
        "datagen.fit(x_train)"
      ],
      "metadata": {
        "id": "pi1kBBhOv2Sn"
      },
      "execution_count": 33,
      "outputs": []
    },
    {
      "cell_type": "markdown",
      "source": [
        "The initial network used had a high accuracy but the model was overfitting the data."
      ],
      "metadata": {
        "id": "Ty2XJomnqBlI"
      }
    },
    {
      "cell_type": "markdown",
      "source": [
        "Conclusion: After adding more layers to the model, the accuracy became 98%, which solved the overfitting discovered in the previous model."
      ],
      "metadata": {
        "id": "cRlw2ZIkrpFE"
      }
    },
    {
      "cell_type": "code",
      "source": [
        "#Compiling the model\n",
        "model.compile(loss='categorical_crossentropy', metrics=['accuracy'])\n",
        "#Training the model for 20 epochs.\n",
        "model.fit(img_iter,\n",
        "          epochs=10,\n",
        "          steps_per_epoch=len(x_train)/batch_size, # Run same number of steps we would if we were not using a generator.\n",
        "          validation_data=(x_valid, y_valid))"
      ],
      "metadata": {
        "colab": {
          "base_uri": "https://localhost:8080/"
        },
        "id": "j_uIA_hYprXx",
        "outputId": "85d578ff-4681-419e-9943-9dc710f341d3"
      },
      "execution_count": 34,
      "outputs": [
        {
          "output_type": "stream",
          "name": "stdout",
          "text": [
            "Epoch 1/10\n",
            "857/857 [==============================] - 111s 128ms/step - loss: 0.8317 - accuracy: 0.7928 - val_loss: 0.4063 - val_accuracy: 0.8717\n",
            "Epoch 2/10\n",
            "857/857 [==============================] - 108s 125ms/step - loss: 0.2708 - accuracy: 0.9117 - val_loss: 0.1152 - val_accuracy: 0.9593\n",
            "Epoch 3/10\n",
            "857/857 [==============================] - 112s 130ms/step - loss: 0.1822 - accuracy: 0.9415 - val_loss: 0.4591 - val_accuracy: 0.8703\n",
            "Epoch 4/10\n",
            "857/857 [==============================] - 115s 134ms/step - loss: 0.1485 - accuracy: 0.9518 - val_loss: 0.1344 - val_accuracy: 0.9584\n",
            "Epoch 5/10\n",
            "857/857 [==============================] - 108s 126ms/step - loss: 0.1296 - accuracy: 0.9594 - val_loss: 0.1060 - val_accuracy: 0.9633\n",
            "Epoch 6/10\n",
            "857/857 [==============================] - 111s 130ms/step - loss: 0.1050 - accuracy: 0.9666 - val_loss: 0.1584 - val_accuracy: 0.9520\n",
            "Epoch 7/10\n",
            "857/857 [==============================] - 110s 128ms/step - loss: 0.1055 - accuracy: 0.9682 - val_loss: 0.0350 - val_accuracy: 0.9847\n",
            "Epoch 8/10\n",
            "857/857 [==============================] - 113s 131ms/step - loss: 0.0936 - accuracy: 0.9721 - val_loss: 0.0599 - val_accuracy: 0.9781\n",
            "Epoch 9/10\n",
            "857/857 [==============================] - 110s 128ms/step - loss: 0.0880 - accuracy: 0.9740 - val_loss: 0.1010 - val_accuracy: 0.9664\n",
            "Epoch 10/10\n",
            "857/857 [==============================] - 110s 129ms/step - loss: 0.0790 - accuracy: 0.9763 - val_loss: 0.0571 - val_accuracy: 0.9824\n"
          ]
        },
        {
          "output_type": "execute_result",
          "data": {
            "text/plain": [
              "<keras.src.callbacks.History at 0x7e026f2791b0>"
            ]
          },
          "metadata": {},
          "execution_count": 34
        }
      ]
    },
    {
      "cell_type": "code",
      "source": [
        "model.save('asl_model')"
      ],
      "metadata": {
        "id": "ogErIFxzptd-"
      },
      "execution_count": 35,
      "outputs": []
    },
    {
      "cell_type": "code",
      "source": [],
      "metadata": {
        "id": "n8_vsQ4d1nOZ"
      },
      "execution_count": null,
      "outputs": []
    }
  ]
}