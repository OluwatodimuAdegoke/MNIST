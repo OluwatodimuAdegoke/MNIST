{
  "nbformat": 4,
  "nbformat_minor": 0,
  "metadata": {
    "colab": {
      "provenance": [],
      "authorship_tag": "ABX9TyMjJzHPIQw3+5PuMAcwjFNE",
      "include_colab_link": true
    },
    "kernelspec": {
      "name": "python3",
      "display_name": "Python 3"
    },
    "language_info": {
      "name": "python"
    }
  },
  "cells": [
    {
      "cell_type": "markdown",
      "metadata": {
        "id": "view-in-github",
        "colab_type": "text"
      },
      "source": [
        "<a href=\"https://colab.research.google.com/github/OluwatodimuAdegoke/MNIST/blob/main/Minst.ipynb\" target=\"_parent\"><img src=\"https://colab.research.google.com/assets/colab-badge.svg\" alt=\"Open In Colab\"/></a>"
      ]
    },
    {
      "cell_type": "code",
      "execution_count": 25,
      "metadata": {
        "colab": {
          "base_uri": "https://localhost:8080/"
        },
        "id": "NcN8Z8QpehZX",
        "outputId": "0c7be2bc-805b-492a-c272-3ec35763d38a"
      },
      "outputs": [
        {
          "output_type": "execute_result",
          "data": {
            "text/plain": [
              "(60000,)"
            ]
          },
          "metadata": {},
          "execution_count": 25
        }
      ],
      "source": [
        "from tensorflow.keras.datasets import mnist\n",
        "import tensorflow.keras as keras\n",
        "from tensorflow.keras.models import Sequential\n",
        "from tensorflow.keras.layers import Dense\n",
        "#Import and split the data from the mnist module\n",
        "(x_train, y_train), (x_valid, y_valid) = mnist.load_data()"
      ]
    },
    {
      "cell_type": "code",
      "source": [
        "#Prepare the data\n",
        "x_train = x_train.reshape(60000, 784)\n",
        "x_valid = x_valid.reshape(10000, 784)"
      ],
      "metadata": {
        "id": "BVugxxFre1xQ"
      },
      "execution_count": 26,
      "outputs": []
    },
    {
      "cell_type": "code",
      "source": [
        "#Normalize the data\n",
        "x_train = x_train / 255\n",
        "x_valid = x_valid / 255\n",
        "\n",
        "num_cate = 10\n",
        "y_train = keras.utils.to_categorical(y_train, num_cate)\n",
        "y_valid = keras.utils.to_categorical(y_valid, num_cate)\n"
      ],
      "metadata": {
        "id": "Kk5kL_TefzEa"
      },
      "execution_count": 27,
      "outputs": []
    },
    {
      "cell_type": "code",
      "source": [
        "#Making the model\n",
        "model = Sequential()\n",
        "\n",
        "#Input Layer\n",
        "model.add(Dense(units=512, activation='relu', input_shape=(784,)))\n",
        "#Hidden Layer\n",
        "model.add(Dense(units=512, activation='relu'))\n",
        "#Output Layer\n",
        "model.add(Dense(units=10,activation='softmax'))"
      ],
      "metadata": {
        "id": "XA8apvk3gg7V"
      },
      "execution_count": 28,
      "outputs": []
    },
    {
      "cell_type": "markdown",
      "source": [
        "Conclusion:\n",
        "The model could accurately predict images with the number written on them with an accuracy of 99% from the MINST datasets."
      ],
      "metadata": {
        "id": "LR2MTdLHjhxk"
      }
    },
    {
      "cell_type": "code",
      "source": [
        "#Compile the model\n",
        "model.compile(loss='categorical_crossentropy', metrics=['accuracy'])\n",
        "#Train the model\n",
        "history = model.fit(\n",
        "    x_train, y_train, epochs=5, verbose=1, validation_data=(x_valid, y_valid)\n",
        ")"
      ],
      "metadata": {
        "colab": {
          "base_uri": "https://localhost:8080/"
        },
        "id": "7mfPv5OthK4a",
        "outputId": "35ce0513-9305-422d-ae13-5b9ebdb96446"
      },
      "execution_count": 29,
      "outputs": [
        {
          "output_type": "stream",
          "name": "stdout",
          "text": [
            "Epoch 1/5\n",
            "1875/1875 [==============================] - 13s 6ms/step - loss: 0.1853 - accuracy: 0.9441 - val_loss: 0.0898 - val_accuracy: 0.9750\n",
            "Epoch 2/5\n",
            "1875/1875 [==============================] - 11s 6ms/step - loss: 0.0844 - accuracy: 0.9753 - val_loss: 0.0967 - val_accuracy: 0.9735\n",
            "Epoch 3/5\n",
            "1875/1875 [==============================] - 12s 7ms/step - loss: 0.0618 - accuracy: 0.9828 - val_loss: 0.0692 - val_accuracy: 0.9802\n",
            "Epoch 4/5\n",
            "1875/1875 [==============================] - 11s 6ms/step - loss: 0.0484 - accuracy: 0.9871 - val_loss: 0.0836 - val_accuracy: 0.9791\n",
            "Epoch 5/5\n",
            "1875/1875 [==============================] - 11s 6ms/step - loss: 0.0393 - accuracy: 0.9893 - val_loss: 0.0819 - val_accuracy: 0.9811\n"
          ]
        }
      ]
    },
    {
      "cell_type": "markdown",
      "source": [
        "# New Section"
      ],
      "metadata": {
        "id": "t7P3bP3_j_lI"
      }
    },
    {
      "cell_type": "code",
      "source": [],
      "metadata": {
        "id": "hNns4b0xkAq2"
      },
      "execution_count": null,
      "outputs": []
    },
    {
      "cell_type": "code",
      "source": [],
      "metadata": {
        "id": "BZvWB90DjFFj"
      },
      "execution_count": null,
      "outputs": []
    }
  ]
}